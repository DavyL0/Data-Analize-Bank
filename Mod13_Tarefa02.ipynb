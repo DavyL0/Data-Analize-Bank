{
  "cells": [
    {
      "cell_type": "markdown",
      "metadata": {
        "id": "view-in-github",
        "colab_type": "text"
      },
      "source": [
        "<a href=\"https://colab.research.google.com/github/DavyL0/Data-Analize-Bank/blob/main/Mod13_Tarefa02.ipynb\" target=\"_parent\"><img src=\"https://colab.research.google.com/assets/colab-badge.svg\" alt=\"Open In Colab\"/></a>"
      ]
    },
    {
      "cell_type": "markdown",
      "metadata": {
        "id": "kN7RbkpY43B2"
      },
      "source": [
        "# EBAC - Regressão II - regressão múltipla\n",
        "\n",
        "## Tarefa I"
      ]
    },
    {
      "cell_type": "markdown",
      "metadata": {
        "id": "TN7_eBCj43B4"
      },
      "source": [
        "#### Previsão de renda II\n",
        "\n",
        "Vamos continuar trabalhando com a base 'previsao_de_renda.csv', que é a base do seu próximo projeto. Vamos usar os recursos que vimos até aqui nesta base.\n",
        "\n",
        "|variavel|descrição|\n",
        "|-|-|\n",
        "|data_ref                | Data de referência de coleta das variáveis |\n",
        "|index                   | Código de identificação do cliente|\n",
        "|sexo                    | Sexo do cliente|\n",
        "|posse_de_veiculo        | Indica se o cliente possui veículo|\n",
        "|posse_de_imovel         | Indica se o cliente possui imóvel|\n",
        "|qtd_filhos              | Quantidade de filhos do cliente|\n",
        "|tipo_renda              | Tipo de renda do cliente|\n",
        "|educacao                | Grau de instrução do cliente|\n",
        "|estado_civil            | Estado civil do cliente|\n",
        "|tipo_residencia         | Tipo de residência do cliente (própria, alugada etc)|\n",
        "|idade                   | Idade do cliente|\n",
        "|tempo_emprego           | Tempo no emprego atual|\n",
        "|qt_pessoas_residencia   | Quantidade de pessoas que moram na residência|\n",
        "|renda                   | Renda em reais|"
      ]
    },
    {
      "cell_type": "code",
      "execution_count": 1,
      "metadata": {
        "id": "vc875jI343B6"
      },
      "outputs": [],
      "source": [
        "import pandas as pd\n",
        "import numpy as np\n",
        "\n",
        "import seaborn as sns\n",
        "import matplotlib.pyplot as plt\n",
        "\n",
        "import statsmodels.formula.api as smf\n",
        "import statsmodels.api as sm\n",
        "import patsy\n",
        "\n",
        "from sklearn.model_selection import train_test_split\n",
        "from sklearn import tree\n",
        "\n",
        "\n",
        "\n"
      ]
    },
    {
      "source": [
        "import pandas as pd\n",
        "import numpy as np\n",
        "\n",
        "import seaborn as sns\n",
        "import matplotlib.pyplot as plt\n",
        "\n",
        "import statsmodels.formula.api as smf\n",
        "import statsmodels.api as sm\n",
        "import patsy\n",
        "\n",
        "from sklearn.model_selection import train_test_split\n",
        "# Instead of load_boston, use fetch_california_housing\n",
        "from sklearn.datasets import fetch_california_housing\n",
        "\n",
        "# Fetch the California housing dataset\n",
        "housing = fetch_california_housing()\n",
        "\n",
        "# Access the data and target variables\n",
        "X = housing.data\n",
        "y = housing.target\n",
        "\n",
        "# Continue with your analysis using X and y\n",
        "# ... your code ..."
      ],
      "cell_type": "code",
      "metadata": {
        "id": "s3B2uaDbut2l"
      },
      "execution_count": 2,
      "outputs": []
    },
    {
      "cell_type": "code",
      "execution_count": 3,
      "metadata": {
        "id": "84xVe53h43B7"
      },
      "outputs": [],
      "source": [
        "df = pd.read_csv('previsao_de_renda.csv')"
      ]
    },
    {
      "cell_type": "code",
      "execution_count": 4,
      "metadata": {
        "id": "Ba02CeAN43B8",
        "outputId": "ad976f03-2242-4469-8e3c-4c9b5e14bcb3",
        "colab": {
          "base_uri": "https://localhost:8080/"
        }
      },
      "outputs": [
        {
          "output_type": "stream",
          "name": "stdout",
          "text": [
            "<class 'pandas.core.frame.DataFrame'>\n",
            "RangeIndex: 15000 entries, 0 to 14999\n",
            "Data columns (total 15 columns):\n",
            " #   Column                 Non-Null Count  Dtype  \n",
            "---  ------                 --------------  -----  \n",
            " 0   Unnamed: 0             15000 non-null  int64  \n",
            " 1   data_ref               15000 non-null  object \n",
            " 2   id_cliente             15000 non-null  int64  \n",
            " 3   sexo                   15000 non-null  object \n",
            " 4   posse_de_veiculo       15000 non-null  bool   \n",
            " 5   posse_de_imovel        15000 non-null  bool   \n",
            " 6   qtd_filhos             15000 non-null  int64  \n",
            " 7   tipo_renda             15000 non-null  object \n",
            " 8   educacao               15000 non-null  object \n",
            " 9   estado_civil           15000 non-null  object \n",
            " 10  tipo_residencia        15000 non-null  object \n",
            " 11  idade                  15000 non-null  int64  \n",
            " 12  tempo_emprego          12427 non-null  float64\n",
            " 13  qt_pessoas_residencia  15000 non-null  float64\n",
            " 14  renda                  15000 non-null  float64\n",
            "dtypes: bool(2), float64(3), int64(4), object(6)\n",
            "memory usage: 1.5+ MB\n"
          ]
        }
      ],
      "source": [
        "df.info()"
      ]
    },
    {
      "cell_type": "markdown",
      "metadata": {
        "id": "v57DM0rU43B9"
      },
      "source": [
        "1. Separe a base em treinamento e teste (25% para teste, 75% para treinamento).\n",
        "2. Rode uma regularização *ridge* com alpha = [0, 0.001, 0.005, 0.01, 0.05, 0.1] e avalie o $R^2$ na base de testes. Qual o melhor modelo?\n",
        "3. Faça o mesmo que no passo 2, com uma regressão *LASSO*. Qual método chega a um melhor resultado?\n",
        "4. Rode um modelo *stepwise*. Avalie o $R^2$ na vase de testes. Qual o melhor resultado?\n",
        "5. Compare os parâmetros e avalie eventuais diferenças. Qual modelo você acha o melhor de todos?\n",
        "6. Partindo dos modelos que você ajustou, tente melhorar o $R^2$ na base de testes. Use a criatividade, veja se consegue inserir alguma transformação ou combinação de variáveis.\n",
        "7. Ajuste uma árvore de regressão e veja se consegue um $R^2$ melhor com ela."
      ]
    },
    {
      "cell_type": "code",
      "source": [
        "data = pd.DataFrame({'tipo_residencia': [1, 2, 3, 5, 4]})\n",
        "data\n",
        "\n",
        "from patsy import dmatrix\n",
        "dmatrix(\"C(tipo_residencia)\", data)\n",
        "\n",
        "y, x = patsy.dmatrices('tempo_emprego ~ C(tipo_residencia)', data = df)\n",
        "x\n",
        "\n",
        "sm.OLS(y, x).fit().summary()\n",
        "\n",
        "reg = smf.ols('tempo_emprego ~ C(tipo_residencia, Treatment(2)) + np.log(renda)', data = df).fit()\n",
        "reg.summary()"
      ],
      "metadata": {
        "colab": {
          "base_uri": "https://localhost:8080/",
          "height": 558
        },
        "id": "k350urLWkgC4",
        "outputId": "d4fecbb4-7b11-4911-936d-cb60089cde4b"
      },
      "execution_count": 5,
      "outputs": [
        {
          "output_type": "execute_result",
          "data": {
            "text/plain": [
              "<class 'statsmodels.iolib.summary.Summary'>\n",
              "\"\"\"\n",
              "                            OLS Regression Results                            \n",
              "==============================================================================\n",
              "Dep. Variable:          tempo_emprego   R-squared:                       0.177\n",
              "Model:                            OLS   Adj. R-squared:                  0.177\n",
              "Method:                 Least Squares   F-statistic:                     446.5\n",
              "Date:                Thu, 31 Oct 2024   Prob (F-statistic):               0.00\n",
              "Time:                        16:00:10   Log-Likelihood:                -40077.\n",
              "No. Observations:               12427   AIC:                         8.017e+04\n",
              "Df Residuals:                   12420   BIC:                         8.022e+04\n",
              "Df Model:                           6                                         \n",
              "Covariance Type:            nonrobust                                         \n",
              "=====================================================================================================================\n",
              "                                                        coef    std err          t      P>|t|      [0.025      0.975]\n",
              "---------------------------------------------------------------------------------------------------------------------\n",
              "Intercept                                           -19.3417      0.549    -35.211      0.000     -20.418     -18.265\n",
              "C(tipo_residencia, Treatment(2))[T.Aluguel]          -0.8865      0.508     -1.747      0.081      -1.881       0.108\n",
              "C(tipo_residencia, Treatment(2))[T.Casa]              1.7796      0.242      7.365      0.000       1.306       2.253\n",
              "C(tipo_residencia, Treatment(2))[T.Comunitário]      -0.1237      0.796     -0.155      0.877      -1.685       1.437\n",
              "C(tipo_residencia, Treatment(2))[T.Estúdio]           1.6042      0.742      2.162      0.031       0.150       3.059\n",
              "C(tipo_residencia, Treatment(2))[T.Governamental]     2.3116      0.397      5.816      0.000       1.533       3.091\n",
              "np.log(renda)                                         3.0746      0.061     50.564      0.000       2.955       3.194\n",
              "==============================================================================\n",
              "Omnibus:                     3278.628   Durbin-Watson:                   1.991\n",
              "Prob(Omnibus):                  0.000   Jarque-Bera (JB):             8592.051\n",
              "Skew:                           1.426   Prob(JB):                         0.00\n",
              "Kurtosis:                       5.909   Cond. No.                         131.\n",
              "==============================================================================\n",
              "\n",
              "Notes:\n",
              "[1] Standard Errors assume that the covariance matrix of the errors is correctly specified.\n",
              "\"\"\""
            ],
            "text/html": [
              "<table class=\"simpletable\">\n",
              "<caption>OLS Regression Results</caption>\n",
              "<tr>\n",
              "  <th>Dep. Variable:</th>      <td>tempo_emprego</td>  <th>  R-squared:         </th> <td>   0.177</td> \n",
              "</tr>\n",
              "<tr>\n",
              "  <th>Model:</th>                   <td>OLS</td>       <th>  Adj. R-squared:    </th> <td>   0.177</td> \n",
              "</tr>\n",
              "<tr>\n",
              "  <th>Method:</th>             <td>Least Squares</td>  <th>  F-statistic:       </th> <td>   446.5</td> \n",
              "</tr>\n",
              "<tr>\n",
              "  <th>Date:</th>             <td>Thu, 31 Oct 2024</td> <th>  Prob (F-statistic):</th>  <td>  0.00</td>  \n",
              "</tr>\n",
              "<tr>\n",
              "  <th>Time:</th>                 <td>16:00:10</td>     <th>  Log-Likelihood:    </th> <td> -40077.</td> \n",
              "</tr>\n",
              "<tr>\n",
              "  <th>No. Observations:</th>      <td> 12427</td>      <th>  AIC:               </th> <td>8.017e+04</td>\n",
              "</tr>\n",
              "<tr>\n",
              "  <th>Df Residuals:</th>          <td> 12420</td>      <th>  BIC:               </th> <td>8.022e+04</td>\n",
              "</tr>\n",
              "<tr>\n",
              "  <th>Df Model:</th>              <td>     6</td>      <th>                     </th>     <td> </td>    \n",
              "</tr>\n",
              "<tr>\n",
              "  <th>Covariance Type:</th>      <td>nonrobust</td>    <th>                     </th>     <td> </td>    \n",
              "</tr>\n",
              "</table>\n",
              "<table class=\"simpletable\">\n",
              "<tr>\n",
              "                          <td></td>                             <th>coef</th>     <th>std err</th>      <th>t</th>      <th>P>|t|</th>  <th>[0.025</th>    <th>0.975]</th>  \n",
              "</tr>\n",
              "<tr>\n",
              "  <th>Intercept</th>                                         <td>  -19.3417</td> <td>    0.549</td> <td>  -35.211</td> <td> 0.000</td> <td>  -20.418</td> <td>  -18.265</td>\n",
              "</tr>\n",
              "<tr>\n",
              "  <th>C(tipo_residencia, Treatment(2))[T.Aluguel]</th>       <td>   -0.8865</td> <td>    0.508</td> <td>   -1.747</td> <td> 0.081</td> <td>   -1.881</td> <td>    0.108</td>\n",
              "</tr>\n",
              "<tr>\n",
              "  <th>C(tipo_residencia, Treatment(2))[T.Casa]</th>          <td>    1.7796</td> <td>    0.242</td> <td>    7.365</td> <td> 0.000</td> <td>    1.306</td> <td>    2.253</td>\n",
              "</tr>\n",
              "<tr>\n",
              "  <th>C(tipo_residencia, Treatment(2))[T.Comunitário]</th>   <td>   -0.1237</td> <td>    0.796</td> <td>   -0.155</td> <td> 0.877</td> <td>   -1.685</td> <td>    1.437</td>\n",
              "</tr>\n",
              "<tr>\n",
              "  <th>C(tipo_residencia, Treatment(2))[T.Estúdio]</th>       <td>    1.6042</td> <td>    0.742</td> <td>    2.162</td> <td> 0.031</td> <td>    0.150</td> <td>    3.059</td>\n",
              "</tr>\n",
              "<tr>\n",
              "  <th>C(tipo_residencia, Treatment(2))[T.Governamental]</th> <td>    2.3116</td> <td>    0.397</td> <td>    5.816</td> <td> 0.000</td> <td>    1.533</td> <td>    3.091</td>\n",
              "</tr>\n",
              "<tr>\n",
              "  <th>np.log(renda)</th>                                     <td>    3.0746</td> <td>    0.061</td> <td>   50.564</td> <td> 0.000</td> <td>    2.955</td> <td>    3.194</td>\n",
              "</tr>\n",
              "</table>\n",
              "<table class=\"simpletable\">\n",
              "<tr>\n",
              "  <th>Omnibus:</th>       <td>3278.628</td> <th>  Durbin-Watson:     </th> <td>   1.991</td>\n",
              "</tr>\n",
              "<tr>\n",
              "  <th>Prob(Omnibus):</th>  <td> 0.000</td>  <th>  Jarque-Bera (JB):  </th> <td>8592.051</td>\n",
              "</tr>\n",
              "<tr>\n",
              "  <th>Skew:</th>           <td> 1.426</td>  <th>  Prob(JB):          </th> <td>    0.00</td>\n",
              "</tr>\n",
              "<tr>\n",
              "  <th>Kurtosis:</th>       <td> 5.909</td>  <th>  Cond. No.          </th> <td>    131.</td>\n",
              "</tr>\n",
              "</table><br/><br/>Notes:<br/>[1] Standard Errors assume that the covariance matrix of the errors is correctly specified."
            ],
            "text/latex": "\\begin{center}\n\\begin{tabular}{lclc}\n\\toprule\n\\textbf{Dep. Variable:}                                     &  tempo\\_emprego  & \\textbf{  R-squared:         } &     0.177   \\\\\n\\textbf{Model:}                                             &       OLS        & \\textbf{  Adj. R-squared:    } &     0.177   \\\\\n\\textbf{Method:}                                            &  Least Squares   & \\textbf{  F-statistic:       } &     446.5   \\\\\n\\textbf{Date:}                                              & Thu, 31 Oct 2024 & \\textbf{  Prob (F-statistic):} &     0.00    \\\\\n\\textbf{Time:}                                              &     16:00:10     & \\textbf{  Log-Likelihood:    } &   -40077.   \\\\\n\\textbf{No. Observations:}                                  &       12427      & \\textbf{  AIC:               } & 8.017e+04   \\\\\n\\textbf{Df Residuals:}                                      &       12420      & \\textbf{  BIC:               } & 8.022e+04   \\\\\n\\textbf{Df Model:}                                          &           6      & \\textbf{                     } &             \\\\\n\\textbf{Covariance Type:}                                   &    nonrobust     & \\textbf{                     } &             \\\\\n\\bottomrule\n\\end{tabular}\n\\begin{tabular}{lcccccc}\n                                                            & \\textbf{coef} & \\textbf{std err} & \\textbf{t} & \\textbf{P$> |$t$|$} & \\textbf{[0.025} & \\textbf{0.975]}  \\\\\n\\midrule\n\\textbf{Intercept}                                          &     -19.3417  &        0.549     &   -35.211  &         0.000        &      -20.418    &      -18.265     \\\\\n\\textbf{C(tipo\\_residencia, Treatment(2))[T.Aluguel]}       &      -0.8865  &        0.508     &    -1.747  &         0.081        &       -1.881    &        0.108     \\\\\n\\textbf{C(tipo\\_residencia, Treatment(2))[T.Casa]}          &       1.7796  &        0.242     &     7.365  &         0.000        &        1.306    &        2.253     \\\\\n\\textbf{C(tipo\\_residencia, Treatment(2))[T.Comunitário]}   &      -0.1237  &        0.796     &    -0.155  &         0.877        &       -1.685    &        1.437     \\\\\n\\textbf{C(tipo\\_residencia, Treatment(2))[T.Estúdio]}       &       1.6042  &        0.742     &     2.162  &         0.031        &        0.150    &        3.059     \\\\\n\\textbf{C(tipo\\_residencia, Treatment(2))[T.Governamental]} &       2.3116  &        0.397     &     5.816  &         0.000        &        1.533    &        3.091     \\\\\n\\textbf{np.log(renda)}                                      &       3.0746  &        0.061     &    50.564  &         0.000        &        2.955    &        3.194     \\\\\n\\bottomrule\n\\end{tabular}\n\\begin{tabular}{lclc}\n\\textbf{Omnibus:}       & 3278.628 & \\textbf{  Durbin-Watson:     } &    1.991  \\\\\n\\textbf{Prob(Omnibus):} &   0.000  & \\textbf{  Jarque-Bera (JB):  } & 8592.051  \\\\\n\\textbf{Skew:}          &   1.426  & \\textbf{  Prob(JB):          } &     0.00  \\\\\n\\textbf{Kurtosis:}      &   5.909  & \\textbf{  Cond. No.          } &     131.  \\\\\n\\bottomrule\n\\end{tabular}\n%\\caption{OLS Regression Results}\n\\end{center}\n\nNotes: \\newline\n [1] Standard Errors assume that the covariance matrix of the errors is correctly specified."
          },
          "metadata": {},
          "execution_count": 5
        }
      ]
    },
    {
      "cell_type": "code",
      "source": [
        "X_train, X_test, y_train, y_test = train_test_split(x, y, test_size=0.25, random_state=42)"
      ],
      "metadata": {
        "id": "73Wd9Lbbp7VP"
      },
      "execution_count": 6,
      "outputs": []
    },
    {
      "cell_type": "code",
      "source": [],
      "metadata": {
        "id": "bHN-EQ1q2SGp"
      },
      "execution_count": null,
      "outputs": []
    },
    {
      "cell_type": "code",
      "source": [
        "alpha = [0, 0.001, 0.005, 0.01, 0.05, 0.1]\n",
        "\n",
        "for i in alpha:\n",
        "    # Defina o modelo de fórmula\n",
        "    modelo = 'tempo_emprego ~ C(tipo_residencia, Treatment(2)) + np.log(renda)'\n",
        "\n",
        "    # Crie o modelo usando OLS\n",
        "    md = smf.ols(modelo, data=df)\n",
        "\n",
        "    # Ajuste com regularização L2 (Ridge)\n",
        "    reg = md.fit_regularized(method='elastic_net',\n",
        "                             L1_wt=0,\n",
        "                             alpha=i,\n",
        "                             refit=True)\n",
        "\n",
        "\n",
        "    y_pred = reg.predict(df)\n",
        "\n",
        "    # Cálculo do R²\n",
        "    ss_res = np.sum((df['tempo_emprego'] - y_pred) ** 2)\n",
        "    ss_tot = np.sum((df['tempo_emprego'] - np.mean(df['tempo_emprego'])) ** 2)\n",
        "    R2 = 1 - (ss_res / ss_tot)\n",
        "\n",
        "    # Exibindo resultados\n",
        "    print(f'Alpha: {i}')\n",
        "    print(f'R² = {R2:.6f}')\n",
        "    print('Coeficientes estimados:')\n",
        "    print(reg.params)\n",
        "    print('\\n' + '-'*60 + '\\n')"
      ],
      "metadata": {
        "colab": {
          "base_uri": "https://localhost:8080/"
        },
        "id": "cl6TOkH86ZjB",
        "outputId": "beeee53f-c8c7-4746-dde9-a5f9841d739a"
      },
      "execution_count": 7,
      "outputs": [
        {
          "output_type": "stream",
          "name": "stdout",
          "text": [
            "Alpha: 0\n",
            "R² = 0.177438\n",
            "Coeficientes estimados:\n",
            "[-19.34171493  -0.88646945   1.77955624  -0.12369022   1.60422874\n",
            "   2.31156599   3.07457766]\n",
            "\n",
            "------------------------------------------------------------\n",
            "\n",
            "Alpha: 0.001\n",
            "R² = 0.176679\n",
            "Coeficientes estimados:\n",
            "[-17.49799889  -1.16079483   1.42126798  -0.43678169   1.1439163\n",
            "   1.88010889   2.89480451]\n",
            "\n",
            "------------------------------------------------------------\n",
            "\n",
            "Alpha: 0.005\n",
            "R² = 0.167805\n",
            "Coeficientes estimados:\n",
            "[-12.77682063  -1.47664275   0.67123929  -0.69997903   0.44582506\n",
            "   0.99846408   2.4144512 ]\n",
            "\n",
            "------------------------------------------------------------\n",
            "\n",
            "Alpha: 0.01\n",
            "R² = 0.156062\n",
            "Coeficientes estimados:\n",
            "[-9.60278688 -1.40476558  0.2844909  -0.62688166  0.22163499  0.56868271\n",
            "  2.07755269]\n",
            "\n",
            "------------------------------------------------------------\n",
            "\n",
            "Alpha: 0.05\n",
            "R² = 0.117223\n",
            "Coeficientes estimados:\n",
            "[-3.21261213 -0.63979396 -0.1702839  -0.23119438  0.04992675  0.09471003\n",
            "  1.36153604]\n",
            "\n",
            "------------------------------------------------------------\n",
            "\n",
            "Alpha: 0.1\n",
            "R² = 0.104966\n",
            "Coeficientes estimados:\n",
            "[-1.72232369 -0.360224   -0.15974343 -0.12317857  0.03141573  0.05625488\n",
            "  1.18110621]\n",
            "\n",
            "------------------------------------------------------------\n",
            "\n"
          ]
        }
      ]
    },
    {
      "cell_type": "code",
      "execution_count": 8,
      "metadata": {
        "id": "RQtUk7GIB-Wv",
        "outputId": "fa59cab9-edb1-4994-9b82-eb1f2b26f7db",
        "colab": {
          "base_uri": "https://localhost:8080/"
        }
      },
      "outputs": [
        {
          "output_type": "stream",
          "name": "stdout",
          "text": [
            "Alpha: 0\n",
            "R² = 0.177438\n",
            "Coeficientes estimados:\n",
            "[-19.34171493  -0.88646945   1.77955624  -0.12369022   1.60422874\n",
            "   2.31156599   3.07457766]\n",
            "\n",
            "------------------------------------------------------------\n",
            "\n",
            "Alpha: 0.001\n",
            "R² = 0.177438\n",
            "Coeficientes estimados:\n",
            "[-19.34171493  -0.88646945   1.77955624  -0.12369022   1.60422874\n",
            "   2.31156599   3.07457766]\n",
            "\n",
            "------------------------------------------------------------\n",
            "\n",
            "Alpha: 0.005\n",
            "R² = 0.177436\n",
            "Coeficientes estimados:\n",
            "[-19.3531867   -0.8757551    1.79027239   0.           1.61490123\n",
            "   2.32228715   3.07466901]\n",
            "\n",
            "------------------------------------------------------------\n",
            "\n",
            "Alpha: 0.01\n",
            "R² = 0.177120\n",
            "Coeficientes estimados:\n",
            "[-19.25735196  -1.02524026   1.6409147    0.           0.\n",
            "   2.17328449   3.08113964]\n",
            "\n",
            "------------------------------------------------------------\n",
            "\n",
            "Alpha: 0.05\n",
            "R² = 0.174204\n",
            "Coeficientes estimados:\n",
            "[-18.80358652   0.           1.20238564   0.           0.\n",
            "   0.           3.07929765]\n",
            "\n",
            "------------------------------------------------------------\n",
            "\n",
            "Alpha: 0.1\n",
            "R² = 0.088875\n",
            "Coeficientes estimados:\n",
            "[0.         0.         0.         0.         0.         0.\n",
            " 0.95938549]\n",
            "\n",
            "------------------------------------------------------------\n",
            "\n"
          ]
        }
      ],
      "source": [
        "alpha = [0, 0.001, 0.005, 0.01, 0.05, 0.1]\n",
        "\n",
        "for i in alpha:\n",
        "    # Defina o modelo de fórmula\n",
        "    modelo = 'tempo_emprego ~ C(tipo_residencia, Treatment(2)) + np.log(renda)'\n",
        "\n",
        "    # Crie o modelo usando OLS\n",
        "    md = smf.ols(modelo, data=df)\n",
        "\n",
        "    # Ajuste com regularização L1 (Lasso)\n",
        "    reg = md.fit_regularized(method='elastic_net',\n",
        "                             L1_wt=1,   # L1_wt=1 significa usar apenas L1 regularization (Lasso)\n",
        "                             alpha=i,\n",
        "                             refit=True)\n",
        "\n",
        "    # Não é possível chamar reg.summary() diretamente, então vamos calcular o R² manualmente\n",
        "    # Predição dos valores ajustados\n",
        "    y_pred = reg.predict(df)\n",
        "\n",
        "    # Cálculo do R²\n",
        "    ss_res = np.sum((df['tempo_emprego'] - y_pred) ** 2)\n",
        "    ss_tot = np.sum((df['tempo_emprego'] - np.mean(df['tempo_emprego'])) ** 2)\n",
        "    R2 = 1 - (ss_res / ss_tot)\n",
        "\n",
        "    # Exibindo resultados\n",
        "    print(f'Alpha: {i}')\n",
        "    print(f'R² = {R2:.6f}')\n",
        "    print('Coeficientes estimados:')\n",
        "    print(reg.params)\n",
        "    print('\\n' + '-'*60 + '\\n')"
      ]
    },
    {
      "cell_type": "code",
      "source": [
        "clf = tree.DecisionTreeRegressor(max_depth=2)\n",
        "clf = clf.fit(X_train, y_train)\n",
        "\n",
        "print(f\"Teste: {clf.score(X_test, y_test)}\")\n",
        "print(f\"Treino: {clf.score(X_train, y_train)}\")"
      ],
      "metadata": {
        "id": "u5neWrD9ME92",
        "colab": {
          "base_uri": "https://localhost:8080/"
        },
        "outputId": "cf233c5c-e270-4320-866c-e30e5945f871"
      },
      "execution_count": 11,
      "outputs": [
        {
          "output_type": "stream",
          "name": "stdout",
          "text": [
            "Teste: 0.0019784026605895733\n",
            "Treino: 0.006393811234413294\n"
          ]
        }
      ]
    }
  ],
  "metadata": {
    "kernelspec": {
      "display_name": "Python 3",
      "language": "python",
      "name": "python3"
    },
    "language_info": {
      "codemirror_mode": {
        "name": "ipython",
        "version": 3
      },
      "file_extension": ".py",
      "mimetype": "text/x-python",
      "name": "python",
      "nbconvert_exporter": "python",
      "pygments_lexer": "ipython3",
      "version": "3.8.5"
    },
    "colab": {
      "provenance": [],
      "include_colab_link": true
    }
  },
  "nbformat": 4,
  "nbformat_minor": 0
}